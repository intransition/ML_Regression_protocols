{
 "cells": [
  {
   "cell_type": "markdown",
   "metadata": {},
   "source": [
    "# MLFLOW Training example\n",
    "\n",
    "\n",
    "Similar to the problem in the MLflow example https://www.mlflow.org/docs/latest/tutorials-and-examples/tutorial.htm but instead, we predict the _price_ of the airbnb properties in the Berlin area\n",
    "\n",
    "C Fanara \n",
    "\n",
    "v1.4 - 30 september 2021\n",
    "rev  22 october 2021\n",
    "\n",
    "____________ \n",
    "General plan for the following\n",
    "1. specialize to other problems\n",
    "2. save to the python script version - e.g. propagate modifs done here to script\n",
    "Reason to run like that is that we go past training - this notebook - in order to do\n",
    "(following the link https://www.mlflow.org/docs/latest/tutorials-and-examples/tutorial.html):\n",
    "3. comparison of models by running the flow\n",
    "4. compare to the list of experiments: useful for lab as well!\n",
    "5. package the training code in a conda env - better to change the name of the env and dependences accordingly - see folder or link above\n",
    "6. run with the appropriate parameter, here only alpha\n",
    "7. serve the model\n",
    "\n",
    "\n",
    "After completion of the pipeline:\n",
    "\n",
    "8. add other regressors\n",
    "and generalize, e.g.\n",
    "9. use my one-for-all regressor\n",
    "10. compare the pyCaret pipeline\n",
    "11. can we add shap on a per-model base?\n"
   ]
  },
  {
   "cell_type": "markdown",
   "metadata": {},
   "source": [
    "# 1. Import data and training function\n",
    "All the elements as a function for later export to script\n",
    "We assume dat read from the pickle are cleaned by a previous VIZ-EDA step"
   ]
  },
  {
   "cell_type": "code",
   "execution_count": 51,
   "metadata": {},
   "outputs": [],
   "source": [
    "def train(in_alpha, in_l1_ratio, rng):\n",
    "    import os\n",
    "    import warnings\n",
    "    import sys\n",
    "\n",
    "    import pandas as pd\n",
    "    import numpy as np\n",
    "    from sklearn.metrics import mean_squared_error, mean_absolute_error, r2_score\n",
    "    from sklearn.model_selection import train_test_split\n",
    "    from sklearn.linear_model import ElasticNet\n",
    "\n",
    "    import mlflow\n",
    "    import mlflow.sklearn\n",
    "    \n",
    "    import logging\n",
    "    logging.basicConfig(level=logging.WARN)\n",
    "    logger = logging.getLogger(__name__)\n",
    "\n",
    "    def eval_metrics(actual, pred):\n",
    "        rmse = np.sqrt(mean_squared_error(actual, pred))\n",
    "        mae = mean_absolute_error(actual, pred)\n",
    "        r2 = r2_score(actual, pred)\n",
    "        return rmse, mae, r2\n",
    "\n",
    "\n",
    "    warnings.filterwarnings(\"ignore\")\n",
    "    np.random.seed(40)\n",
    "\n",
    "    # Read csv file from the URL, ex.\n",
    "    #csv_url =\\\n",
    "    #    'http://archive.ics.uci.edu/ml/machine-learning-databases/wine-quality/winequality-red.csv'\n",
    "    try:\n",
    "        # data= pd.read_pickle('/home/carlo/Documents/MLFlow/listing_pro_regr_proc_df.zip')\n",
    "         data= pd.read_pickle('/home/carlo/Documents/MLFlow/listing_IN_regr_proc_df.zip')\n",
    "    #try:\n",
    "    #     data = pd.read_csv(csv_url, sep=';')\n",
    "    except Exception as e:\n",
    "        logger.exception(\n",
    "            \"Unable to find training & test CSV, check location. Error: %s\", e)\n",
    "      \n",
    "    # Split the data into training and test sets. (0.75, 0.25) split.\n",
    "    train, test = train_test_split(data)\n",
    "\n",
    "    # The predicted column is a scalar\n",
    "    train_x = train.drop([\"price\"], axis=1)\n",
    "    test_x = test.drop([\"price\"], axis=1)\n",
    "    train_y = train[[\"price\"]]\n",
    "    test_y = test[[\"price\"]]\n",
    "\n",
    "    # Set default values if no alpha is provided\n",
    "    if float(in_alpha) is None:\n",
    "        alpha = 0.5\n",
    "    else:\n",
    "        alpha = float(in_alpha)\n",
    "\n",
    "    # Set default values if no l1_ratio is provided\n",
    "    if float(in_l1_ratio) is None:\n",
    "        l1_ratio = 0.5\n",
    "    else:\n",
    "        l1_ratio = float(in_l1_ratio)\n",
    "\n",
    "    # Useful for multiple runs (only doing one run in this sample notebook)    \n",
    "    with mlflow.start_run():\n",
    "        # Execute ElasticNet\n",
    "        lr = ElasticNet(alpha=alpha, l1_ratio=l1_ratio, random_state=rng, selection='random')\n",
    "        lr.fit(train_x, train_y)\n",
    "\n",
    "        # Evaluate Metrics\n",
    "        predicted_qualities = lr.predict(test_x)\n",
    "        (rmse, mae, r2) = eval_metrics(test_y, predicted_qualities)\n",
    "\n",
    "        # Print out metrics\n",
    "        print(\"Elasticnet model (alpha=%f, l1_ratio=%f):\" % (alpha, l1_ratio))\n",
    "        print(\"  RMSE: %s\" % rmse)\n",
    "        print(\"  MAE: %s\" % mae)\n",
    "        print(\"  R2: %s\" % r2)\n",
    "\n",
    "        # Log parameter, metrics, and model to MLflow\n",
    "        mlflow.log_param(\"alpha\", alpha)\n",
    "        mlflow.log_param(\"l1_ratio\", l1_ratio)\n",
    "        mlflow.log_metric(\"rmse\", rmse)\n",
    "        mlflow.log_metric(\"r2\", r2)\n",
    "        mlflow.log_metric(\"mae\", mae)\n",
    "\n",
    "        mlflow.sklearn.log_model(lr, \"model\") # may be more explicit to "
   ]
  },
  {
   "cell_type": "markdown",
   "metadata": {},
   "source": [
    "# 2. Check input file"
   ]
  },
  {
   "cell_type": "code",
   "execution_count": 52,
   "metadata": {},
   "outputs": [
    {
     "data": {
      "text/plain": [
       "<AxesSubplot:>"
      ]
     },
     "execution_count": 52,
     "metadata": {},
     "output_type": "execute_result"
    },
    {
     "data": {
      "image/png": "[encoded data removed]",
      "text/plain": [
       "<Figure size 432x288 with 1 Axes>"
      ]
     },
     "metadata": {
      "needs_background": "light"
     },
     "output_type": "display_data"
    }
   ],
   "source": [
    "# before launching, just check what we are sending\n",
    "import seaborn as sns\n",
    "import pandas as pd\n",
    "# data= pd.read_pickle('/home/carlo/Documents/MLFlow/listing_pro_regr_proc_df.zip')\n",
    "data= pd.read_pickle('/home/carlo/Documents/MLFlow/listing_IN_regr_proc_df.zip')\n",
    "sns.heatmap(data.isnull(), cbar=False)    \n",
    "        \n",
    "     "
   ]
  },
  {
   "cell_type": "markdown",
   "metadata": {},
   "source": [
    "# 3. Run individual tests"
   ]
  },
  {
   "cell_type": "code",
   "execution_count": 53,
   "metadata": {},
   "outputs": [
    {
     "name": "stdout",
     "output_type": "stream",
     "text": [
      "Elasticnet model (alpha=0.500000, l1_ratio=0.500000):\n",
      "  RMSE: 49.711689672717235\n",
      "  MAE: 25.312709725921867\n",
      "  R2: 0.2967551394539836\n"
     ]
    }
   ],
   "source": [
    "import numpy as np\n",
    "rng = np.random.RandomState(0)\n",
    "train(0.5, 0.5, rng)"
   ]
  },
  {
   "cell_type": "code",
   "execution_count": 54,
   "metadata": {},
   "outputs": [
    {
     "name": "stdout",
     "output_type": "stream",
     "text": [
      "Elasticnet model (alpha=0.200000, l1_ratio=0.200000):\n",
      "  RMSE: 49.57420774217913\n",
      "  MAE: 25.28092856836487\n",
      "  R2: 0.3006395283578077\n"
     ]
    }
   ],
   "source": [
    "import numpy as np\n",
    "rng = np.random.RandomState(0)\n",
    "train(0.2, 0.2, rng)"
   ]
  },
  {
   "cell_type": "code",
   "execution_count": 55,
   "metadata": {},
   "outputs": [
    {
     "name": "stdout",
     "output_type": "stream",
     "text": [
      "Elasticnet model (alpha=0.100000, l1_ratio=0.100000):\n",
      "  RMSE: 49.482207341804596\n",
      "  MAE: 25.29376800089534\n",
      "  R2: 0.303232882584511\n"
     ]
    }
   ],
   "source": [
    "import numpy as np\n",
    "rng = np.random.RandomState(0)\n",
    "train(0.1, 0.1,rng)"
   ]
  },
  {
   "cell_type": "markdown",
   "metadata": {},
   "source": [
    "#### Note\n",
    "This was cross-checked with my protocol on 90PoE and the train RMSE is somewhat 0.1 lower here, but here we did 3 iterations varying params, there we did 10 repetitions for stats purposes\n",
    "\n",
    "#### todo\n",
    "Use a gui /accept user parameter \"nr. of iterations\""
   ]
  },
  {
   "cell_type": "markdown",
   "metadata": {},
   "source": [
    "# 4. Run repeated tests (loop)"
   ]
  },
  {
   "cell_type": "code",
   "execution_count": 56,
   "metadata": {},
   "outputs": [
    {
     "name": "stdout",
     "output_type": "stream",
     "text": [
      "Elasticnet model (alpha=0.500000, l1_ratio=0.500000):\n",
      "  RMSE: 49.71178784303971\n",
      "  MAE: 25.312696908990855\n",
      "  R2: 0.29675236192445853\n",
      "Elasticnet model (alpha=0.500000, l1_ratio=0.500000):\n",
      "  RMSE: 49.71179959585292\n",
      "  MAE: 25.31261937505121\n",
      "  R2: 0.2967520294021546\n",
      "Elasticnet model (alpha=0.500000, l1_ratio=0.500000):\n",
      "  RMSE: 49.71173486672014\n",
      "  MAE: 25.31264567599246\n",
      "  R2: 0.2967538607823098\n",
      "Elasticnet model (alpha=0.500000, l1_ratio=0.500000):\n",
      "  RMSE: 49.71199052811764\n",
      "  MAE: 25.31271016726346\n",
      "  R2: 0.29674662734523327\n",
      "Elasticnet model (alpha=0.500000, l1_ratio=0.500000):\n",
      "  RMSE: 49.71182137872841\n",
      "  MAE: 25.312620505535147\n",
      "  R2: 0.29675141309912545\n",
      "Elasticnet model (alpha=0.500000, l1_ratio=0.500000):\n",
      "  RMSE: 49.711719358925976\n",
      "  MAE: 25.31266014037511\n",
      "  R2: 0.2967542995436888\n"
     ]
    }
   ],
   "source": [
    "# External loop to perform training and test k times. \n",
    "k = 7   # several files were run with 5, 10, 15, 20. Can decide a standard when plotting metrics vs repetitions and seek plateau - if any\n",
    "\n",
    "# first element, 0, is header\n",
    "for i in range(1, k):  \n",
    "    rng = np.random.RandomState()  # we impose different rnd\n",
    "    train(0.5, 0.5, rng)\n",
    "    "
   ]
  },
  {
   "cell_type": "markdown",
   "metadata": {},
   "source": [
    "# 5. Evaluations \n",
    "would be done on the upgraded version. This is basic, dev for this version stops here (20 October 2021)"
   ]
  },
  {
   "cell_type": "code",
   "execution_count": null,
   "metadata": {},
   "outputs": [],
   "source": []
  }
 ],
 "metadata": {
  "kernelspec": {
   "display_name": "Python 3 (ipykernel)",
   "language": "python",
   "name": "python3"
  },
  "language_info": {
   "codemirror_mode": {
    "name": "ipython",
    "version": 3
   },
   "file_extension": ".py",
   "mimetype": "text/x-python",
   "name": "python",
   "nbconvert_exporter": "python",
   "pygments_lexer": "ipython3",
   "version": "3.9.6"
  }
 },
 "nbformat": 4,
 "nbformat_minor": 4
}
